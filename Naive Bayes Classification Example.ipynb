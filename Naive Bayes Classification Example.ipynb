{
 "cells": [
  {
   "cell_type": "markdown",
   "metadata": {},
   "source": [
    "# Naive Bayes Classification using Scikit-learn\n",
    "**Learn how to build and evaluate a Naive Bayes Classifier using Python's Scikit-learn package.**"
   ],
   "id": "a5a4c93e2f10125b"
  },
  {
   "cell_type": "code",
   "metadata": {
    "ExecuteTime": {
     "end_time": "2024-11-21T16:05:58.725130Z",
     "start_time": "2024-11-21T16:05:58.720049Z"
    }
   },
   "source": [
    "# Assigning features and label variables\n",
    "Weather = ['Sunny','Sunny','Overcast','Rainy','Rainy','Rainy','Overcast','Sunny','Sunny',\n",
    "'Rainy','Sunny','Overcast','Overcast','Rainy']\n",
    "Temp = ['Hot','Hot','Hot','Mild','Cool','Cool','Cool','Mild','Cool','Mild','Mild','Mild','Hot','Mild']\n",
    "\n",
    "Play =['No','No','Yes','Yes','Yes','No','Yes','No','Yes','Yes','Yes','Yes','Yes','No']"
   ],
   "id": "e52c693e4dd772b2",
   "outputs": [],
   "execution_count": 1
  },
  {
   "cell_type": "markdown",
   "metadata": {},
   "source": [
    "#### Encoding Features\n",
    "\n",
    "First, you need to convert these string labels into numbers. for example: 'Overcast', 'Rainy', 'Sunny' as 0, 1, 2. This is known as label encoding. Scikit-learn provides LabelEncoder library for encoding labels with a value between 0 and one less than the number of discrete classes.\n"
   ],
   "id": "a6853cdd3c5eda84"
  },
  {
   "cell_type": "code",
   "metadata": {
    "ExecuteTime": {
     "end_time": "2024-11-21T16:05:59.816564Z",
     "start_time": "2024-11-21T16:05:58.844864Z"
    }
   },
   "source": [
    "# Import LabelEncoder\n",
    "from sklearn import preprocessing\n",
    "\n",
    "#creating labelEncoder\n",
    "le = preprocessing.LabelEncoder()\n",
    "\n",
    "# Converting string labels into numbers.\n",
    "weather_encoded = le.fit_transform(Weather)\n",
    "print(weather_encoded)"
   ],
   "id": "edb16ff2dead0837",
   "outputs": [
    {
     "name": "stdout",
     "output_type": "stream",
     "text": [
      "[2 2 0 1 1 1 0 2 2 1 2 0 0 1]\n"
     ]
    }
   ],
   "execution_count": 2
  },
  {
   "cell_type": "markdown",
   "metadata": {},
   "source": [
    "Similarly, you can also encode temp and Play  columns.\n"
   ],
   "id": "18ea9acc4b91dc41"
  },
  {
   "cell_type": "code",
   "metadata": {
    "ExecuteTime": {
     "end_time": "2024-11-21T16:06:00.261842Z",
     "start_time": "2024-11-21T16:06:00.257190Z"
    }
   },
   "source": [
    "# Converting string labels into numbers\n",
    "temp_encoded = le.fit_transform(Temp)\n",
    "label = le.fit_transform(Play)\n",
    "\n",
    "print(\"Temp:\", temp_encoded)\n",
    "print(\"Play :\", label)"
   ],
   "id": "124f00685e37bef8",
   "outputs": [
    {
     "name": "stdout",
     "output_type": "stream",
     "text": [
      "Temp: [1 1 1 2 0 0 0 2 0 2 2 2 1 2]\n",
      "Play : [0 0 1 1 1 0 1 0 1 1 1 1 1 0]\n"
     ]
    }
   ],
   "execution_count": 3
  },
  {
   "cell_type": "markdown",
   "metadata": {},
   "source": [
    "Now combine both the features (weather and temp) in a single variable (list of tuples).\n"
   ],
   "id": "5ca567412695d986"
  },
  {
   "cell_type": "code",
   "metadata": {
    "ExecuteTime": {
     "end_time": "2024-11-21T16:06:00.295274Z",
     "start_time": "2024-11-21T16:06:00.291143Z"
    }
   },
   "source": [
    "# Combinig weather and temp into single listof tuples\n",
    "features = [tup for tup in zip(weather_encoded, temp_encoded)]\n",
    "print(features)"
   ],
   "id": "38f02a7ee8d95089",
   "outputs": [
    {
     "name": "stdout",
     "output_type": "stream",
     "text": [
      "[(np.int64(2), np.int64(1)), (np.int64(2), np.int64(1)), (np.int64(0), np.int64(1)), (np.int64(1), np.int64(2)), (np.int64(1), np.int64(0)), (np.int64(1), np.int64(0)), (np.int64(0), np.int64(0)), (np.int64(2), np.int64(2)), (np.int64(2), np.int64(0)), (np.int64(1), np.int64(2)), (np.int64(2), np.int64(2)), (np.int64(0), np.int64(2)), (np.int64(0), np.int64(1)), (np.int64(1), np.int64(2))]\n"
     ]
    }
   ],
   "execution_count": 4
  },
  {
   "cell_type": "markdown",
   "metadata": {},
   "source": [
    "#### Generating Model\n",
    "\n",
    "Generate a model using naive bayes classifier in the following steps:\n",
    "\n",
    "   - Create naive bayes classifier\n",
    "   - Fit the dataset on classifier\n",
    "   - Perform prediction\n"
   ],
   "id": "10f85bf2b54d001d"
  },
  {
   "cell_type": "code",
   "metadata": {
    "ExecuteTime": {
     "end_time": "2024-11-21T16:06:00.389048Z",
     "start_time": "2024-11-21T16:06:00.381586Z"
    }
   },
   "source": [
    "#Import Gaussian Naive Bayes model\n",
    "from sklearn.naive_bayes import GaussianNB\n",
    "\n",
    "#Create a Gaussian Classifier\n",
    "model = GaussianNB()\n",
    "\n",
    "# Train the model using the training sets\n",
    "model.fit(features,label)\n",
    "\n",
    "#Predict Output\n",
    "predicted= model.predict([[0,2]]) # 0:Overcast, 2:Mild\n",
    "print(\"Predicted Value:\", predicted)"
   ],
   "id": "246e899848ef91c5",
   "outputs": [
    {
     "name": "stdout",
     "output_type": "stream",
     "text": [
      "Predicted Value: [1]\n"
     ]
    }
   ],
   "execution_count": 5
  },
  {
   "cell_type": "markdown",
   "metadata": {},
   "source": [
    "Here, 1 indicates that Players can 'Play '.\n",
    "\n",
    "### Naive Bayes with Multiple Labels\n",
    "\n",
    "Till now you have learned Naive Bayes classification with binary labels. Now you will learn about multiple class classification in Naive Bayes. Which is known as multinomial Naive Bayes classification. For example, if you want to classify a news article about technology, entertainment, politics, or sports.\n",
    "\n",
    "In model building part, you can use wine dataset which is a very famous multi-class classification problem. \"This dataset is the result of a chemical analysis of wines grown in the same region in Italy but derived from three different cultivars.\" ([UC Irvine](https://archive.ics.uci.edu/ml/datasets/wine))\n",
    "\n",
    "Dataset comprises of 13 features (alcohol, malic_acid, ash, alcalinity_of_ash, magnesium, total_phenols, flavanoids, nonflavanoid_phenols, proanthocyanins, color_intensity, hue, od280/od315_of_diluted_wines, proline) and type of wine cultivar. This data has three type of wine Class_0, Class_1, and Class_3. Here you can build a model to classify the type of wine.\n",
    "\n",
    "The dataset is available in the scikit-learn library.\n",
    "\n",
    "#### Loading Data\n",
    "\n",
    "Let's first load the required wine dataset from scikit-learn datasets.\n"
   ],
   "id": "d2c00ee4e74cc6f0"
  },
  {
   "cell_type": "code",
   "metadata": {
    "lines_to_next_cell": 0,
    "ExecuteTime": {
     "end_time": "2024-11-21T16:06:00.652004Z",
     "start_time": "2024-11-21T16:06:00.463652Z"
    }
   },
   "source": [
    "#Import scikit-learn dataset library\n",
    "from sklearn import datasets\n",
    "\n",
    "#Load dataset\n",
    "wine = datasets.load_wine()"
   ],
   "id": "910441271089ac5b",
   "outputs": [],
   "execution_count": 6
  },
  {
   "cell_type": "markdown",
   "metadata": {},
   "source": [
    "#### Exploring Data\n",
    "\n",
    "You can print the target and feature names, to make sure you have the right dataset, as such:\n"
   ],
   "id": "28469f9585d16438"
  },
  {
   "cell_type": "code",
   "metadata": {
    "ExecuteTime": {
     "end_time": "2024-11-21T16:06:00.676667Z",
     "start_time": "2024-11-21T16:06:00.672966Z"
    }
   },
   "source": [
    "# print the names of the 13 features\n",
    "print(\"Features: \", wine.feature_names)\n",
    "\n",
    "# print the label type of wine(class_0, class_1, class_2)\n",
    "print(\"\\nLabels: \", wine.target_names)"
   ],
   "id": "501b4cb3973815ed",
   "outputs": [
    {
     "name": "stdout",
     "output_type": "stream",
     "text": [
      "Features:  ['alcohol', 'malic_acid', 'ash', 'alcalinity_of_ash', 'magnesium', 'total_phenols', 'flavanoids', 'nonflavanoid_phenols', 'proanthocyanins', 'color_intensity', 'hue', 'od280/od315_of_diluted_wines', 'proline']\n",
      "\n",
      "Labels:  ['class_0' 'class_1' 'class_2']\n"
     ]
    }
   ],
   "execution_count": 7
  },
  {
   "cell_type": "markdown",
   "metadata": {},
   "source": [
    "It's a good idea to always explore your data a bit, so you know what you're working with. Here, you can see the first five rows of the dataset are printed, as well as the target variable for the whole dataset.\n"
   ],
   "id": "8b130d160da1da29"
  },
  {
   "cell_type": "code",
   "metadata": {
    "lines_to_next_cell": 0,
    "ExecuteTime": {
     "end_time": "2024-11-21T16:06:00.715715Z",
     "start_time": "2024-11-21T16:06:00.709501Z"
    }
   },
   "source": [
    "# print data(feature)shape\n",
    "wine.data.shape"
   ],
   "id": "39f40198e2b71497",
   "outputs": [
    {
     "data": {
      "text/plain": [
       "(178, 13)"
      ]
     },
     "execution_count": 8,
     "metadata": {},
     "output_type": "execute_result"
    }
   ],
   "execution_count": 8
  },
  {
   "cell_type": "code",
   "metadata": {
    "ExecuteTime": {
     "end_time": "2024-11-21T16:06:00.779782Z",
     "start_time": "2024-11-21T16:06:00.776560Z"
    }
   },
   "source": [
    "# # print the wine in a pandas dataframe to have a better view, you need to import the wine data from scikit learn library to a pandas dataframe\n",
    "# import pandas as pd\n",
    "# features = pd.DataFrame(data=wine['data'],columns=wine['feature_names'])\n",
    "# features['target']=wine['target']\n",
    "# features.head(30)"
   ],
   "id": "71de891b7a7ad3f0",
   "outputs": [],
   "execution_count": 9
  },
  {
   "cell_type": "code",
   "metadata": {
    "ExecuteTime": {
     "end_time": "2024-11-21T16:06:00.829315Z",
     "start_time": "2024-11-21T16:06:00.825100Z"
    }
   },
   "source": [
    "# print the wine labels (0:Class_0, 1:class_2, 2:class_2)\n",
    "print(wine.target)"
   ],
   "id": "a094be25c251f17a",
   "outputs": [
    {
     "name": "stdout",
     "output_type": "stream",
     "text": [
      "[0 0 0 0 0 0 0 0 0 0 0 0 0 0 0 0 0 0 0 0 0 0 0 0 0 0 0 0 0 0 0 0 0 0 0 0 0\n",
      " 0 0 0 0 0 0 0 0 0 0 0 0 0 0 0 0 0 0 0 0 0 0 1 1 1 1 1 1 1 1 1 1 1 1 1 1 1\n",
      " 1 1 1 1 1 1 1 1 1 1 1 1 1 1 1 1 1 1 1 1 1 1 1 1 1 1 1 1 1 1 1 1 1 1 1 1 1\n",
      " 1 1 1 1 1 1 1 1 1 1 1 1 1 1 1 1 1 1 1 2 2 2 2 2 2 2 2 2 2 2 2 2 2 2 2 2 2\n",
      " 2 2 2 2 2 2 2 2 2 2 2 2 2 2 2 2 2 2 2 2 2 2 2 2 2 2 2 2 2 2]\n"
     ]
    }
   ],
   "execution_count": 10
  },
  {
   "cell_type": "markdown",
   "metadata": {},
   "source": [
    "#### Splitting Data\n",
    "\n",
    "First, you separate the columns into dependent and independent variables(or features and label). Then you split those variables into train and test set.\n",
    "\n",
    "![](graphics/figure5.png)\n"
   ],
   "id": "eff03498f8fd646d"
  },
  {
   "cell_type": "code",
   "metadata": {
    "ExecuteTime": {
     "end_time": "2024-11-21T16:06:01.340280Z",
     "start_time": "2024-11-21T16:06:00.861792Z"
    }
   },
   "source": [
    "# Import train_test_split function\n",
    "from sklearn.model_selection import train_test_split\n",
    "\n",
    "# Split dataset into training set and test set\n",
    "X_train, X_test, y_train, y_test = train_test_split(wine.data, \n",
    "                                                    wine.target, \n",
    "                                                    test_size=0.3,   # 70% training and 30% test\n",
    "                                                    random_state=109) \n",
    "\n",
    "# print (\"X_train: \", X_train)\n",
    "# print (\"y_train: \", y_train)\n",
    "# print(\"X_test: \", X_test)\n",
    "# print (\"y_test: \", y_test)"
   ],
   "id": "a4bc57a101f5b254",
   "outputs": [],
   "execution_count": 11
  },
  {
   "cell_type": "markdown",
   "metadata": {},
   "source": [
    "#### Model Generation\n",
    "\n",
    "After splitting, you will generate a random forest model on the training set and perform prediction on test set features.\n"
   ],
   "id": "e2ac3607809355a6"
  },
  {
   "cell_type": "code",
   "metadata": {
    "ExecuteTime": {
     "end_time": "2024-11-21T16:06:01.362904Z",
     "start_time": "2024-11-21T16:06:01.357668Z"
    }
   },
   "source": [
    "#Import Gaussian Naive Bayes model\n",
    "from sklearn.naive_bayes import GaussianNB\n",
    "\n",
    "#Create a Gaussian Classifier\n",
    "gnb = GaussianNB()\n",
    "\n",
    "#Train the model using the training sets\n",
    "gnb.fit(X_train, y_train)\n",
    "\n",
    "#Predict the response for test dataset\n",
    "y_pred = gnb.predict(X_test)"
   ],
   "id": "467aefb955789aaa",
   "outputs": [],
   "execution_count": 12
  },
  {
   "cell_type": "markdown",
   "metadata": {},
   "source": [
    "#### Evaluating Model\n",
    "\n",
    "After model generation, check the accuracy using actual and predicted values.\n"
   ],
   "id": "4b0e67cb59514481"
  },
  {
   "cell_type": "code",
   "metadata": {
    "ExecuteTime": {
     "end_time": "2024-11-21T16:06:01.386976Z",
     "start_time": "2024-11-21T16:06:01.382527Z"
    }
   },
   "source": [
    "#Import scikit-learn metrics module for accuracy calculation\n",
    "from sklearn import metrics\n",
    "\n",
    "# Model Accuracy, how often is the classifier correct?\n",
    "print(\"Accuracy:\",metrics.accuracy_score(y_test, y_pred))"
   ],
   "id": "a604bfcdf88985aa",
   "outputs": [
    {
     "name": "stdout",
     "output_type": "stream",
     "text": [
      "Accuracy: 0.9074074074074074\n"
     ]
    }
   ],
   "execution_count": 13
  }
 ],
 "metadata": {
  "jupytext": {
   "cell_metadata_filter": "-all",
   "main_language": "python",
   "notebook_metadata_filter": "-all"
  },
  "kernelspec": {
   "display_name": "Python 3",
   "language": "python",
   "name": "python3"
  },
  "language_info": {
   "codemirror_mode": {
    "name": "ipython",
    "version": 3
   },
   "file_extension": ".py",
   "mimetype": "text/x-python",
   "name": "python",
   "nbconvert_exporter": "python",
   "pygments_lexer": "ipython3",
   "version": "3.7.3"
  }
 },
 "nbformat": 4,
 "nbformat_minor": 5
}
